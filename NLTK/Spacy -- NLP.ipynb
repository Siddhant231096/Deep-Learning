{
 "cells": [
  {
   "cell_type": "code",
   "execution_count": 2,
   "metadata": {},
   "outputs": [],
   "source": [
    "import spacy"
   ]
  },
  {
   "cell_type": "code",
   "execution_count": 3,
   "metadata": {},
   "outputs": [],
   "source": [
    "# en for english --- -- -- this will use nltk_data folder to load library\n",
    "\n",
    "nlp=spacy.load('en')"
   ]
  },
  {
   "cell_type": "code",
   "execution_count": 4,
   "metadata": {},
   "outputs": [],
   "source": [
    "data=\"I am great and I want to rule on  whole world sometime\""
   ]
  },
  {
   "cell_type": "code",
   "execution_count": 5,
   "metadata": {},
   "outputs": [],
   "source": [
    "# Applying NLP \n",
    "\n",
    "\n",
    "s_data=nlp(data)"
   ]
  },
  {
   "cell_type": "code",
   "execution_count": 7,
   "metadata": {},
   "outputs": [
    {
     "data": {
      "text/plain": [
       "I am great and I want to rule on  whole world sometime"
      ]
     },
     "execution_count": 7,
     "metadata": {},
     "output_type": "execute_result"
    }
   ],
   "source": [
    "s_data"
   ]
  },
  {
   "cell_type": "code",
   "execution_count": 8,
   "metadata": {},
   "outputs": [
    {
     "name": "stdout",
     "output_type": "stream",
     "text": [
      "I  --->>   -PRON-\n",
      "Part of Speech of word -->>  PRON\n",
      "am  --->>   be\n",
      "Part of Speech of word -->>  VERB\n",
      "great  --->>   great\n",
      "Part of Speech of word -->>  ADJ\n",
      "and  --->>   and\n",
      "Part of Speech of word -->>  CCONJ\n",
      "I  --->>   -PRON-\n",
      "Part of Speech of word -->>  PRON\n",
      "want  --->>   want\n",
      "Part of Speech of word -->>  VERB\n",
      "to  --->>   to\n",
      "Part of Speech of word -->>  PART\n",
      "rule  --->>   rule\n",
      "Part of Speech of word -->>  VERB\n",
      "on  --->>   on\n",
      "Part of Speech of word -->>  ADP\n",
      "   --->>    \n",
      "Part of Speech of word -->>  SPACE\n",
      "whole  --->>   whole\n",
      "Part of Speech of word -->>  ADJ\n",
      "world  --->>   world\n",
      "Part of Speech of word -->>  NOUN\n",
      "sometime  --->>   sometime\n",
      "Part of Speech of word -->>  ADV\n"
     ]
    }
   ],
   "source": [
    "# checking lemma and part of speech\n",
    "\n",
    "for i in s_data:\n",
    "    print(i,\" --->>  \",i.lemma_)\n",
    "    print(\"Part of Speech of word -->> \",i.pos_)\n",
    "    \n",
    "    \n"
   ]
  },
  {
   "cell_type": "code",
   "execution_count": 9,
   "metadata": {},
   "outputs": [],
   "source": [
    "verb=[]    \n",
    "for i in s_data:\n",
    "    if i.pos_=='VERB':\n",
    "        verb.append(i)\n",
    "    \n",
    "adj=[]    \n",
    "for i in s_data:\n",
    "    if i.pos_=='ADJ':\n",
    "        adj.append(i)      "
   ]
  },
  {
   "cell_type": "code",
   "execution_count": 10,
   "metadata": {},
   "outputs": [
    {
     "data": {
      "text/plain": [
       "[am, want, rule]"
      ]
     },
     "execution_count": 10,
     "metadata": {},
     "output_type": "execute_result"
    }
   ],
   "source": [
    "verb"
   ]
  },
  {
   "cell_type": "code",
   "execution_count": 11,
   "metadata": {},
   "outputs": [
    {
     "data": {
      "text/plain": [
       "[great, whole]"
      ]
     },
     "execution_count": 11,
     "metadata": {},
     "output_type": "execute_result"
    }
   ],
   "source": [
    "adj"
   ]
  },
  {
   "cell_type": "code",
   "execution_count": null,
   "metadata": {},
   "outputs": [],
   "source": []
  }
 ],
 "metadata": {
  "kernelspec": {
   "display_name": "Python 3",
   "language": "python",
   "name": "python3"
  },
  "language_info": {
   "codemirror_mode": {
    "name": "ipython",
    "version": 3
   },
   "file_extension": ".py",
   "mimetype": "text/x-python",
   "name": "python",
   "nbconvert_exporter": "python",
   "pygments_lexer": "ipython3",
   "version": "3.6.8"
  }
 },
 "nbformat": 4,
 "nbformat_minor": 2
}
