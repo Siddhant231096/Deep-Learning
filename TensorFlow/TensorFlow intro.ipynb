{
 "cells": [
  {
   "cell_type": "markdown",
   "metadata": {},
   "source": [
    "# Tensorflow\n"
   ]
  },
  {
   "cell_type": "markdown",
   "metadata": {},
   "source": [
    "Numpy---->>> Theono ------>>> Tensorflow ---->>> Keras ----->>> Pytourch"
   ]
  },
  {
   "cell_type": "markdown",
   "metadata": {},
   "source": [
    "-----------------------------------------------------------------------------------------------------------\n",
    "Backhand is C++ --- \n",
    "\n",
    "\n",
    "In mobile it is Mtensorflow\n"
   ]
  },
  {
   "cell_type": "markdown",
   "metadata": {},
   "source": [
    "Tensor --==-->> Dimenshion"
   ]
  },
  {
   "cell_type": "markdown",
   "metadata": {},
   "source": [
    "# Concept of Tensorflow"
   ]
  },
  {
   "cell_type": "markdown",
   "metadata": {},
   "source": [
    "we structured the equation and store that equation and not compute that equation we structure \n",
    "it in graph and store it and use or compile when we needed \n"
   ]
  },
  {
   "cell_type": "markdown",
   "metadata": {},
   "source": [
    "----------------------------------------------------------------------------------------------------------\n",
    "----------------------------------------------------------------------------------------------------------"
   ]
  },
  {
   "cell_type": "code",
   "execution_count": 1,
   "metadata": {},
   "outputs": [],
   "source": [
    "import tensorflow as tf"
   ]
  },
  {
   "cell_type": "code",
   "execution_count": 2,
   "metadata": {},
   "outputs": [
    {
     "data": {
      "text/plain": [
       "620"
      ]
     },
     "execution_count": 2,
     "metadata": {},
     "output_type": "execute_result"
    }
   ],
   "source": [
    "len(dir(tf))"
   ]
  },
  {
   "cell_type": "markdown",
   "metadata": {},
   "source": [
    "# For taking data and process it tensorflow has\n",
    "\n",
    "1. Constant\n",
    "2. Placeholder\n",
    "3. Variable\n",
    "\n",
    "\n"
   ]
  },
  {
   "cell_type": "markdown",
   "metadata": {},
   "source": [
    "# 1. Constant"
   ]
  },
  {
   "cell_type": "code",
   "execution_count": 3,
   "metadata": {},
   "outputs": [],
   "source": [
    "# creating constant\n",
    "x=tf.constant(20)\n",
    "x1=tf.constant([2,5,7])\n"
   ]
  },
  {
   "cell_type": "code",
   "execution_count": 4,
   "metadata": {},
   "outputs": [],
   "source": [
    "y=tf.constant(30)\n",
    "y1=tf.constant([4,5,6])\n",
    "# adding constants\n",
    "c=x+y\n",
    "c1=x1+y1\n"
   ]
  },
  {
   "cell_type": "code",
   "execution_count": 5,
   "metadata": {},
   "outputs": [
    {
     "name": "stdout",
     "output_type": "stream",
     "text": [
      "Tensor(\"add:0\", shape=(), dtype=int32) Tensor(\"add_1:0\", shape=(3,), dtype=int32)\n"
     ]
    }
   ],
   "source": [
    "\n",
    "print(c,c1)\n",
    "# this saving a state in tensorflow   not showing it    it store in graphical value  we can use it in future \n",
    "# we can give this tensorflow a GPU or CPU or TPU   we can decide it by own"
   ]
  },
  {
   "cell_type": "code",
   "execution_count": 6,
   "metadata": {},
   "outputs": [
    {
     "name": "stdout",
     "output_type": "stream",
     "text": [
      "50\n",
      "[ 6 10 13]\n"
     ]
    }
   ],
   "source": [
    "# now we will create a session of tensorflow that can connect with CPU,GPU,TPU\n",
    "\n",
    "# with open and open has diffrence that withopen has not to be close but   open has to be close  same concept in tensorflow\n",
    "\n",
    "'''OR   \n",
    "sess=tf.Session() \n",
    "sess.close()\n",
    "'''\n",
    "with tf.Session() as sess:\n",
    "    output=sess.run(c) #connecting with CPU,GPU,TPU for processing equation == graph\n",
    "    output1=sess.run(c1)\n",
    "    #tf.summary.FileWriter(output)\n",
    "    print(output)\n",
    "    print(output1)\n",
    "    \n"
   ]
  },
  {
   "cell_type": "code",
   "execution_count": null,
   "metadata": {},
   "outputs": [],
   "source": []
  },
  {
   "cell_type": "code",
   "execution_count": null,
   "metadata": {},
   "outputs": [],
   "source": []
  }
 ],
 "metadata": {
  "kernelspec": {
   "display_name": "Python 3",
   "language": "python",
   "name": "python3"
  },
  "language_info": {
   "codemirror_mode": {
    "name": "ipython",
    "version": 3
   },
   "file_extension": ".py",
   "mimetype": "text/x-python",
   "name": "python",
   "nbconvert_exporter": "python",
   "pygments_lexer": "ipython3",
   "version": "3.6.8"
  }
 },
 "nbformat": 4,
 "nbformat_minor": 2
}
